{
 "cells": [
  {
   "cell_type": "code",
   "execution_count": 1,
   "metadata": {},
   "outputs": [],
   "source": [
    "movie = {\n",
    "    \"title\": \"The Godfather\",\n",
    "    \"director\": \"Francis Ford Coppola\",\n",
    "    \"year\": 1972,\n",
    "    \"rating\": 9.2\n",
    "}"
   ]
  },
  {
   "cell_type": "code",
   "execution_count": 2,
   "metadata": {},
   "outputs": [
    {
     "name": "stdout",
     "output_type": "stream",
     "text": [
      "1972\n"
     ]
    }
   ],
   "source": [
    "print(movie['year'])"
   ]
  },
  {
   "cell_type": "code",
   "execution_count": 4,
   "metadata": {},
   "outputs": [
    {
     "name": "stdout",
     "output_type": "stream",
     "text": [
      "9.275\n"
     ]
    }
   ],
   "source": [
    "movie['rating'] = (movie['rating'] + 9.3)/2\n",
    "print(movie['rating'])"
   ]
  },
  {
   "cell_type": "code",
   "execution_count": 5,
   "metadata": {},
   "outputs": [],
   "source": [
    "movie = {}\n",
    "movie['title'] = \"The Godfather\"\n",
    "movie['director'] = \"Francis Ford Coppola\"\n",
    "movie['year'] = 1972\n",
    "movie['rating'] = 9.2"
   ]
  },
  {
   "cell_type": "code",
   "execution_count": 6,
   "metadata": {},
   "outputs": [],
   "source": [
    "sample = {}\n",
    "for i in range(10):\n",
    "    sample[i] = i + 10;"
   ]
  },
  {
   "cell_type": "code",
   "execution_count": 7,
   "metadata": {},
   "outputs": [
    {
     "data": {
      "text/plain": [
       "{0: 10, 1: 11, 2: 12, 3: 13, 4: 14, 5: 15, 6: 16, 7: 17, 8: 18, 9: 19}"
      ]
     },
     "execution_count": 7,
     "metadata": {},
     "output_type": "execute_result"
    }
   ],
   "source": [
    "sample"
   ]
  },
  {
   "cell_type": "code",
   "execution_count": 8,
   "metadata": {},
   "outputs": [
    {
     "ename": "KeyError",
     "evalue": "20",
     "output_type": "error",
     "traceback": [
      "\u001b[0;31m---------------------------------------------------------------------------\u001b[0m",
      "\u001b[0;31mKeyError\u001b[0m                                  Traceback (most recent call last)",
      "\u001b[0;32m<ipython-input-8-99bbf24ea9f4>\u001b[0m in \u001b[0;36m<module>\u001b[0;34m\u001b[0m\n\u001b[0;32m----> 1\u001b[0;31m \u001b[0msample\u001b[0m\u001b[0;34m[\u001b[0m\u001b[0;36m20\u001b[0m\u001b[0;34m]\u001b[0m\u001b[0;34m\u001b[0m\u001b[0;34m\u001b[0m\u001b[0m\n\u001b[0m",
      "\u001b[0;31mKeyError\u001b[0m: 20"
     ]
    }
   ],
   "source": [
    "sample[20]"
   ]
  },
  {
   "cell_type": "code",
   "execution_count": 11,
   "metadata": {},
   "outputs": [
    {
     "data": {
      "text/plain": [
       "33"
      ]
     },
     "execution_count": 11,
     "metadata": {},
     "output_type": "execute_result"
    }
   ],
   "source": [
    "sample.get(20,33)"
   ]
  },
  {
   "cell_type": "code",
   "execution_count": 15,
   "metadata": {},
   "outputs": [],
   "source": [
    "from collections import defaultdict\n",
    "sample = defaultdict(list)"
   ]
  },
  {
   "cell_type": "code",
   "execution_count": 17,
   "metadata": {},
   "outputs": [],
   "source": [
    "sample = {1:[1,2,3],2:[4,5]}"
   ]
  },
  {
   "cell_type": "code",
   "execution_count": 20,
   "metadata": {},
   "outputs": [
    {
     "data": {
      "text/plain": [
       "[]"
      ]
     },
     "execution_count": 20,
     "metadata": {},
     "output_type": "execute_result"
    }
   ],
   "source": [
    "sample.get(9,[])"
   ]
  },
  {
   "cell_type": "code",
   "execution_count": 23,
   "metadata": {},
   "outputs": [],
   "source": [
    "sample = defaultdict(list)"
   ]
  },
  {
   "cell_type": "code",
   "execution_count": 25,
   "metadata": {},
   "outputs": [
    {
     "data": {
      "text/plain": [
       "[]"
      ]
     },
     "execution_count": 25,
     "metadata": {},
     "output_type": "execute_result"
    }
   ],
   "source": [
    "list()"
   ]
  },
  {
   "cell_type": "code",
   "execution_count": 24,
   "metadata": {},
   "outputs": [
    {
     "data": {
      "text/plain": [
       "[]"
      ]
     },
     "execution_count": 24,
     "metadata": {},
     "output_type": "execute_result"
    }
   ],
   "source": [
    "sample[9]"
   ]
  },
  {
   "cell_type": "code",
   "execution_count": 26,
   "metadata": {},
   "outputs": [
    {
     "name": "stdout",
     "output_type": "stream",
     "text": [
      "{'title': 'The Godfather', 'director': 'Francis Ford Coppola', 'year': 1972, 'rating': 9.2, 'actors': ['Marlon Brando', 'Al Pacino', 'James Caan'], 'other_details': {'runtime': 175, 'language': 'English'}}\n"
     ]
    }
   ],
   "source": [
    "movie['actors'] = ['Marlon Brando', 'Al Pacino', 'James Caan']\n",
    "movie['other_details'] = {\n",
    "    'runtime': 175,\n",
    "    'language': 'English'\n",
    "}\n",
    "print(movie )"
   ]
  },
  {
   "cell_type": "markdown",
   "metadata": {},
   "source": [
    "### Using exception handling"
   ]
  },
  {
   "cell_type": "code",
   "execution_count": 49,
   "metadata": {},
   "outputs": [
    {
     "data": {
      "text/plain": [
       "{0: {'student_id': 0, 'name': 'student_0'},\n",
       " 1: {'student_id': 1, 'name': 'student_1'},\n",
       " 2: {'student_id': 2, 'name': 'student_2'},\n",
       " 3: {'student_id': 3, 'name': 'student_3'},\n",
       " 4: {'student_id': 4, 'name': 'student_4'},\n",
       " 5: {'student_id': 5, 'name': 'student_5'},\n",
       " 6: {'student_id': 6, 'name': 'student_6'},\n",
       " 7: {'student_id': 7, 'name': 'student_7'},\n",
       " 8: {'student_id': 8, 'name': 'student_8'},\n",
       " 9: {'student_id': 9, 'name': 'student_9'},\n",
       " 10: {'student_id': 10, 'name': 'student_10'}}"
      ]
     },
     "execution_count": 49,
     "metadata": {},
     "output_type": "execute_result"
    }
   ],
   "source": [
    "\n",
    "students = {}\n",
    "for i in range(10):\n",
    "    students[i] = {'student_id':i,'name':'student_{}'.format(i)}\n",
    "try:\n",
    "    students[10]\n",
    "except KeyError:\n",
    "    i = 10\n",
    "    students[10] = {'student_id':i,'name':'student_{}'.format(i)}\n",
    "students"
   ]
  },
  {
   "cell_type": "markdown",
   "metadata": {},
   "source": [
    "## using get"
   ]
  },
  {
   "cell_type": "code",
   "execution_count": null,
   "metadata": {},
   "outputs": [],
   "source": [
    "\n",
    "\n",
    "students = {}\n",
    "for i in range(10):\n",
    "    students[i] = {'student_id':i,'name':'student_{}'.format(i)}\n",
    "stud_10 = students.get(10)\n",
    "if stud_10 is None:\n",
    "     i = 10\n",
    "     students[10] = {'student_id':i,'name':'student_{}'.format(i)}\n",
    "students"
   ]
  },
  {
   "cell_type": "markdown",
   "metadata": {},
   "source": [
    "## get with defualt"
   ]
  },
  {
   "cell_type": "code",
   "execution_count": 51,
   "metadata": {},
   "outputs": [
    {
     "data": {
      "text/plain": [
       "{0: {'student_id': 0, 'name': 'student_0'},\n",
       " 1: {'student_id': 1, 'name': 'student_1'},\n",
       " 2: {'student_id': 2, 'name': 'student_2'},\n",
       " 3: {'student_id': 3, 'name': 'student_3'},\n",
       " 4: {'student_id': 4, 'name': 'student_4'},\n",
       " 5: {'student_id': 5, 'name': 'student_5'},\n",
       " 6: {'student_id': 6, 'name': 'student_6'},\n",
       " 7: {'student_id': 7, 'name': 'student_7'},\n",
       " 8: {'student_id': 8, 'name': 'student_8'},\n",
       " 9: {'student_id': 9, 'name': 'student_9'},\n",
       " 10: {'student_id': 10, 'name': 'student_10'}}"
      ]
     },
     "execution_count": 51,
     "metadata": {},
     "output_type": "execute_result"
    }
   ],
   "source": [
    "students = {}\n",
    "for i in range(10):\n",
    "    students[i] = {'student_id':i,'name':'student_{}'.format(i)}\n",
    "stud_10 = students.get(10,{})\n",
    "i = 10\n",
    "stud_10['student_id'] = i\n",
    "stud_10['name'] = 'student_{}'.format(i)\n",
    "students[i] = stud_10\n",
    "students"
   ]
  },
  {
   "cell_type": "markdown",
   "metadata": {},
   "source": [
    "## default dict"
   ]
  },
  {
   "cell_type": "code",
   "execution_count": 112,
   "metadata": {},
   "outputs": [
    {
     "data": {
      "text/plain": [
       "defaultdict(dict,\n",
       "            {0: {'student_id': 0, 'name': 'student_0'},\n",
       "             1: {'student_id': 1, 'name': 'student_1'},\n",
       "             2: {'student_id': 2, 'name': 'student_2'},\n",
       "             3: {'student_id': 3, 'name': 'student_3'},\n",
       "             4: {'student_id': 4, 'name': 'student_4'},\n",
       "             5: {'student_id': 5, 'name': 'student_5'},\n",
       "             6: {'student_id': 6, 'name': 'student_6'},\n",
       "             7: {'student_id': 7, 'name': 'student_7'},\n",
       "             8: {'student_id': 8, 'name': 'student_8'},\n",
       "             9: {'student_id': 9, 'name': 'student_9'},\n",
       "             10: {'student_id': 10, 'name': 'student_10'}})"
      ]
     },
     "execution_count": 112,
     "metadata": {},
     "output_type": "execute_result"
    }
   ],
   "source": [
    "students = defaultdict(dict)\n",
    "for i in range(10):\n",
    "    students[i] = {'student_id':i,'name':'student_{}'.format(i)}\n",
    "i = 10\n",
    "stud_10 = students[i]\n",
    "stud_10['student_id'] = i\n",
    "stud_10['name'] = 'student_{}'.format(i)\n",
    "students"
   ]
  },
  {
   "cell_type": "markdown",
   "metadata": {},
   "source": [
    "## building dicts using comprehension"
   ]
  },
  {
   "cell_type": "code",
   "execution_count": 58,
   "metadata": {},
   "outputs": [
    {
     "data": {
      "text/plain": [
       "{0: 10, 1: 11, 2: 12, 3: 13, 4: 14, 5: 15, 6: 16, 7: 17, 8: 18, 9: 19}"
      ]
     },
     "execution_count": 58,
     "metadata": {},
     "output_type": "execute_result"
    }
   ],
   "source": [
    "comp_dict = {i:i+10 for i in range(10)}\n",
    "comp_dict"
   ]
  },
  {
   "cell_type": "code",
   "execution_count": 55,
   "metadata": {},
   "outputs": [
    {
     "data": {
      "text/plain": [
       "{0: 10, 1: 11, 2: 12, 3: 13, 4: 14, 5: 15, 6: 16, 7: 17, 8: 18, 9: 19}"
      ]
     },
     "execution_count": 55,
     "metadata": {},
     "output_type": "execute_result"
    }
   ],
   "source": [
    "comp_dict = {}\n",
    "for i in range(10):\n",
    "    comp_dict[i] = i + 10\n",
    "comp_dict"
   ]
  },
  {
   "cell_type": "code",
   "execution_count": 59,
   "metadata": {},
   "outputs": [
    {
     "data": {
      "text/plain": [
       "{0: 30, 1: 31, 2: 32, 3: 33, 4: 34, 5: 35, 6: 36, 7: 37, 8: 38, 9: 39}"
      ]
     },
     "execution_count": 59,
     "metadata": {},
     "output_type": "execute_result"
    }
   ],
   "source": [
    "comp_dict = {i:j for i,j in zip(range(10),range(30,40))}\n",
    "comp_dict"
   ]
  },
  {
   "cell_type": "code",
   "execution_count": 87,
   "metadata": {},
   "outputs": [
    {
     "name": "stdout",
     "output_type": "stream",
     "text": [
      "CPU times: user 205 ms, sys: 105 ms, total: 310 ms\n",
      "Wall time: 313 ms\n"
     ]
    }
   ],
   "source": [
    "%time list_items = list(range(10000000))"
   ]
  },
  {
   "cell_type": "code",
   "execution_count": 88,
   "metadata": {},
   "outputs": [
    {
     "name": "stdout",
     "output_type": "stream",
     "text": [
      "9999999\n",
      "CPU times: user 809 ms, sys: 2.35 ms, total: 811 ms\n",
      "Wall time: 810 ms\n"
     ]
    }
   ],
   "source": [
    "%%time\n",
    "for i,j in enumerate(list_items):\n",
    "    if j == (10000000-1):\n",
    "        print(i)"
   ]
  },
  {
   "cell_type": "code",
   "execution_count": 89,
   "metadata": {},
   "outputs": [
    {
     "name": "stdout",
     "output_type": "stream",
     "text": [
      "CPU times: user 701 ms, sys: 247 ms, total: 948 ms\n",
      "Wall time: 956 ms\n"
     ]
    }
   ],
   "source": [
    "%time dict_items = {i:i for i in range(10000000)}"
   ]
  },
  {
   "cell_type": "code",
   "execution_count": 90,
   "metadata": {},
   "outputs": [
    {
     "name": "stdout",
     "output_type": "stream",
     "text": [
      "CPU times: user 3 µs, sys: 1 µs, total: 4 µs\n",
      "Wall time: 5.72 µs\n"
     ]
    },
    {
     "data": {
      "text/plain": [
       "9999999"
      ]
     },
     "execution_count": 90,
     "metadata": {},
     "output_type": "execute_result"
    }
   ],
   "source": [
    "%%time\n",
    "dict_items[10000000-1]"
   ]
  },
  {
   "cell_type": "markdown",
   "metadata": {},
   "source": [
    "## defaultdict with integer defaults"
   ]
  },
  {
   "cell_type": "code",
   "execution_count": 105,
   "metadata": {},
   "outputs": [],
   "source": [
    "def val():\n",
    "    return 10"
   ]
  },
  {
   "cell_type": "code",
   "execution_count": 106,
   "metadata": {},
   "outputs": [],
   "source": [
    "x = defaultdict(lambda:10)"
   ]
  },
  {
   "cell_type": "code",
   "execution_count": 107,
   "metadata": {},
   "outputs": [],
   "source": [
    "y = defaultdict(val)"
   ]
  },
  {
   "cell_type": "code",
   "execution_count": 108,
   "metadata": {},
   "outputs": [
    {
     "data": {
      "text/plain": [
       "(defaultdict(<function __main__.<lambda>()>, {}),\n",
       " defaultdict(<function __main__.val()>, {}))"
      ]
     },
     "execution_count": 108,
     "metadata": {},
     "output_type": "execute_result"
    }
   ],
   "source": [
    "x,y"
   ]
  },
  {
   "cell_type": "code",
   "execution_count": 115,
   "metadata": {},
   "outputs": [
    {
     "data": {
      "text/plain": [
       "(10, 10)"
      ]
     },
     "execution_count": 115,
     "metadata": {},
     "output_type": "execute_result"
    }
   ],
   "source": [
    "x[1],y[1]"
   ]
  },
  {
   "cell_type": "code",
   "execution_count": 111,
   "metadata": {},
   "outputs": [
    {
     "data": {
      "text/plain": [
       "(defaultdict(<function __main__.<lambda>()>, {1: 10}),\n",
       " defaultdict(<function __main__.val()>, {1: 10}))"
      ]
     },
     "execution_count": 111,
     "metadata": {},
     "output_type": "execute_result"
    }
   ],
   "source": [
    "x,y"
   ]
  },
  {
   "cell_type": "code",
   "execution_count": 113,
   "metadata": {},
   "outputs": [
    {
     "data": {
      "text/plain": [
       "defaultdict(int, {10: 0})"
      ]
     },
     "execution_count": 113,
     "metadata": {},
     "output_type": "execute_result"
    }
   ],
   "source": [
    "z = defaultdict(int)\n",
    "z[10]\n",
    "z"
   ]
  },
  {
   "cell_type": "markdown",
   "metadata": {},
   "source": [
    "# Count the frequency of items in the given list"
   ]
  },
  {
   "cell_type": "code",
   "execution_count": 134,
   "metadata": {},
   "outputs": [],
   "source": [
    "import numpy as np\n",
    "input_list = np.random.randint(0,10,10000).tolist()"
   ]
  },
  {
   "cell_type": "code",
   "execution_count": 135,
   "metadata": {},
   "outputs": [
    {
     "data": {
      "text/plain": [
       "[4, 9, 2, 0, 9, 7, 3, 2, 2, 0]"
      ]
     },
     "execution_count": 135,
     "metadata": {},
     "output_type": "execute_result"
    }
   ],
   "source": [
    "input_list[:10]"
   ]
  },
  {
   "cell_type": "code",
   "execution_count": 146,
   "metadata": {},
   "outputs": [],
   "source": [
    "def compute_freq(input_list):\n",
    "    freq = defaultdict(int)\n",
    "    gt_3 = []\n",
    "    for i in input_list:\n",
    "        i_count = freq.get(i,0)\n",
    "        freq[i] = i_count + 1\n",
    "        if i > 3:\n",
    "            gt_3.append(i)\n",
    "    return freq,gt_3"
   ]
  },
  {
   "cell_type": "code",
   "execution_count": 147,
   "metadata": {},
   "outputs": [
    {
     "name": "stdout",
     "output_type": "stream",
     "text": [
      "CPU times: user 2.09 ms, sys: 26 µs, total: 2.11 ms\n",
      "Wall time: 2.12 ms\n"
     ]
    }
   ],
   "source": [
    "%time x,y = compute_freq(input_list)"
   ]
  },
  {
   "cell_type": "code",
   "execution_count": 149,
   "metadata": {},
   "outputs": [
    {
     "data": {
      "text/plain": [
       "(defaultdict(int,\n",
       "             {4: 963,\n",
       "              9: 969,\n",
       "              2: 1029,\n",
       "              0: 973,\n",
       "              7: 1032,\n",
       "              3: 1002,\n",
       "              6: 1007,\n",
       "              1: 979,\n",
       "              5: 1030,\n",
       "              8: 1016}),\n",
       " [4, 9])"
      ]
     },
     "execution_count": 149,
     "metadata": {},
     "output_type": "execute_result"
    }
   ],
   "source": [
    "x,y[:2]"
   ]
  },
  {
   "cell_type": "code",
   "execution_count": 142,
   "metadata": {},
   "outputs": [
    {
     "data": {
      "text/plain": [
       "0"
      ]
     },
     "execution_count": 142,
     "metadata": {},
     "output_type": "execute_result"
    }
   ],
   "source": [
    "x[11]"
   ]
  },
  {
   "cell_type": "code",
   "execution_count": 143,
   "metadata": {},
   "outputs": [
    {
     "data": {
      "text/plain": [
       "defaultdict(int,\n",
       "            {4: 963,\n",
       "             9: 969,\n",
       "             2: 1029,\n",
       "             0: 973,\n",
       "             7: 1032,\n",
       "             3: 1002,\n",
       "             6: 1007,\n",
       "             1: 979,\n",
       "             5: 1030,\n",
       "             8: 1016,\n",
       "             11: 0})"
      ]
     },
     "execution_count": 143,
     "metadata": {},
     "output_type": "execute_result"
    }
   ],
   "source": [
    "x"
   ]
  },
  {
   "cell_type": "code",
   "execution_count": 144,
   "metadata": {},
   "outputs": [],
   "source": [
    "from collections import Counter"
   ]
  },
  {
   "cell_type": "code",
   "execution_count": 145,
   "metadata": {},
   "outputs": [
    {
     "data": {
      "text/plain": [
       "Counter({4: 963,\n",
       "         9: 969,\n",
       "         2: 1029,\n",
       "         0: 973,\n",
       "         7: 1032,\n",
       "         3: 1002,\n",
       "         6: 1007,\n",
       "         1: 979,\n",
       "         5: 1030,\n",
       "         8: 1016})"
      ]
     },
     "execution_count": 145,
     "metadata": {},
     "output_type": "execute_result"
    }
   ],
   "source": [
    "freq = Counter(input_list)\n",
    "freq"
   ]
  },
  {
   "cell_type": "code",
   "execution_count": null,
   "metadata": {},
   "outputs": [],
   "source": []
  }
 ],
 "metadata": {
  "kernelspec": {
   "display_name": "Python 3",
   "language": "python",
   "name": "python3"
  },
  "language_info": {
   "codemirror_mode": {
    "name": "ipython",
    "version": 3
   },
   "file_extension": ".py",
   "mimetype": "text/x-python",
   "name": "python",
   "nbconvert_exporter": "python",
   "pygments_lexer": "ipython3",
   "version": "3.7.3"
  }
 },
 "nbformat": 4,
 "nbformat_minor": 2
}
