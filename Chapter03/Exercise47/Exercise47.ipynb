{
 "cells": [
  {
   "cell_type": "code",
   "execution_count": 23,
   "metadata": {},
   "outputs": [],
   "source": [
    "def convert_usd_to_aud(amount, rate=0.75, **kwargs):\n",
    "    print(\"from convert_usd_to_aud:{}\".format(kwargs))\n",
    "    if kwargs.get('priority_customer',False):\n",
    "        return amount / (rate-0.5)\n",
    "    return amount / rate"
   ]
  },
  {
   "cell_type": "code",
   "execution_count": 24,
   "metadata": {},
   "outputs": [
    {
     "name": "stdout",
     "output_type": "stream",
     "text": [
      "from convert_usd_to_aud:{'priority_customer': True}\n",
      "from convert_usd_to_aud:{'priority_customer': True}\n",
      "16.0\n"
     ]
    }
   ],
   "source": [
    "def convert_and_sum_list(usd_list, rate=0.75):\n",
    "    total = 0\n",
    "    for amount in usd_list:\n",
    "        total += convert_usd_to_aud(amount, rate=rate,priority_customer=True)\n",
    "    return total\n",
    "\n",
    "print(convert_and_sum_list([1, 3]))\n"
   ]
  },
  {
   "cell_type": "code",
   "execution_count": 26,
   "metadata": {},
   "outputs": [
    {
     "name": "stdout",
     "output_type": "stream",
     "text": [
      "(100, 200, 300, 400, 500)\n",
      "{'rate': 0.8, 'priority_customer': True}\n",
      "from convert_usd_to_aud:{'priority_customer': True}\n",
      "from convert_usd_to_aud:{'priority_customer': True}\n",
      "13.333333333333332\n"
     ]
    }
   ],
   "source": [
    "def convert_and_sum_list_kwargs(usd_list, *args, **kwargs):\n",
    "    total = 0\n",
    "    print(args)\n",
    "    print(kwargs)\n",
    "    for amount in usd_list:\n",
    "        total += convert_usd_to_aud(amount, **kwargs)\n",
    "    return total\n",
    "\n",
    "print(convert_and_sum_list_kwargs([1, 3], 100, 200, 300,400,500, rate=0.8,priority_customer=True))\n"
   ]
  },
  {
   "cell_type": "code",
   "execution_count": null,
   "metadata": {},
   "outputs": [],
   "source": []
  }
 ],
 "metadata": {
  "kernelspec": {
   "display_name": "Python 3",
   "language": "python",
   "name": "python3"
  },
  "language_info": {
   "codemirror_mode": {
    "name": "ipython",
    "version": 3
   },
   "file_extension": ".py",
   "mimetype": "text/x-python",
   "name": "python",
   "nbconvert_exporter": "python",
   "pygments_lexer": "ipython3",
   "version": "3.7.3"
  }
 },
 "nbformat": 4,
 "nbformat_minor": 2
}
