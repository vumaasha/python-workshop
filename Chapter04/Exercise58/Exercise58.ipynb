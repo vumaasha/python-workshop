{
 "cells": [
  {
   "cell_type": "code",
   "execution_count": 23,
   "metadata": {},
   "outputs": [],
   "source": [
    "f = open('pg37431.txt',encoding=\"ISO-8859-1\")"
   ]
  },
  {
   "cell_type": "code",
   "execution_count": 21,
   "metadata": {},
   "outputs": [
    {
     "name": "stdout",
     "output_type": "stream",
     "text": [
      "\n"
     ]
    }
   ],
   "source": [
    "text = f.read()\n",
    "print(text)"
   ]
  },
  {
   "cell_type": "code",
   "execution_count": 28,
   "metadata": {},
   "outputs": [
    {
     "name": "stdout",
     "output_type": "stream",
     "text": [
      "\n",
      "\n",
      "The Project Gutenberg EBook of Pride and Prejudice, a play, by \n",
      "\n",
      "Mary Keith Medbery Mackaye\n",
      "\n",
      "\n",
      "\n",
      "This eBook is for the use of anyone anywhere at no cost and with\n",
      "\n",
      "almost no restrictions whatsoever.  You may copy it, give it away or\n",
      "\n",
      "re-use it under the terms of the Project Gutenberg License included\n",
      "\n",
      "with this eBook or online at www.gutenberg.org\n",
      "\n",
      "\n",
      "\n",
      "\n",
      "\n",
      "Title: Pride and Prejudice, a play\n",
      "\n"
     ]
    }
   ],
   "source": [
    "f = open('pg37431.txt',encoding=\"ISO-8859-1\")\n",
    "line_num = 0\n",
    "for l in f:\n",
    "    print(l)\n",
    "    line_num +=1 \n",
    "    if line_num > 10:\n",
    "        break"
   ]
  },
  {
   "cell_type": "code",
   "execution_count": 29,
   "metadata": {},
   "outputs": [],
   "source": [
    "with open('pg37431.txt',encoding=\"ISO-8859-1\") as tf:\n",
    "    content = tf.readlines()\n",
    "    "
   ]
  },
  {
   "cell_type": "code",
   "execution_count": 30,
   "metadata": {},
   "outputs": [
    {
     "data": {
      "text/plain": [
       "['\\n',\n",
       " 'The Project Gutenberg EBook of Pride and Prejudice, a play, by \\n',\n",
       " 'Mary Keith Medbery Mackaye\\n',\n",
       " '\\n',\n",
       " 'This eBook is for the use of anyone anywhere at no cost and with\\n',\n",
       " 'almost no restrictions whatsoever.  You may copy it, give it away or\\n',\n",
       " 're-use it under the terms of the Project Gutenberg License included\\n',\n",
       " 'with this eBook or online at www.gutenberg.org\\n',\n",
       " '\\n',\n",
       " '\\n']"
      ]
     },
     "execution_count": 30,
     "metadata": {},
     "output_type": "execute_result"
    }
   ],
   "source": [
    "content[:10]"
   ]
  },
  {
   "cell_type": "code",
   "execution_count": 32,
   "metadata": {},
   "outputs": [
    {
     "name": "stdout",
     "output_type": "stream",
     "text": [
      "\n",
      "\n",
      "The Project Gutenberg EBook of Pride and Prejudice, a play, by \n",
      "\n",
      "Mary Keith Medbery Mackaye\n",
      "\n",
      "\n",
      "\n"
     ]
    }
   ],
   "source": [
    "with open('pg37431.txt',encoding=\"ISO-8859-1\") as tf:\n",
    "    for i in range(4):\n",
    "        print(tf.readline())"
   ]
  },
  {
   "cell_type": "code",
   "execution_count": 33,
   "metadata": {},
   "outputs": [],
   "source": [
    "with open('pg37431.txt',encoding=\"ISO-8859-1\") as tf:\n",
    "    txt = tf.read()"
   ]
  },
  {
   "cell_type": "code",
   "execution_count": 34,
   "metadata": {},
   "outputs": [
    {
     "data": {
      "text/plain": [
       "'\\nThe Project Gutenberg EBook of Pride and Prejudice, a play, by \\nMary Keith Medbery Mackaye\\n\\nThis eBook is for the use of anyone anywhere at no cost and with\\nalmost no restrictions whatsoever.  You may copy it, give it away or\\nre-use it under the terms of the Project Gutenberg License included\\nwith this eBook or online at www.gutenberg.org\\n\\n\\nTitle: Pride and Prejudice, a play\\n\\nAuthor: Mary Keith M'"
      ]
     },
     "execution_count": 34,
     "metadata": {},
     "output_type": "execute_result"
    }
   ],
   "source": [
    "txt[:400]"
   ]
  },
  {
   "cell_type": "code",
   "execution_count": 35,
   "metadata": {},
   "outputs": [],
   "source": [
    "with open('pg37431.txt',encoding=\"ISO-8859-1\") as tf:\n",
    "    with open('away.txt','w') as wf:\n",
    "        for line in tf:\n",
    "            if 'away' in line:\n",
    "                wf.write(line)"
   ]
  },
  {
   "cell_type": "code",
   "execution_count": 36,
   "metadata": {},
   "outputs": [
    {
     "name": "stdout",
     "output_type": "stream",
     "text": [
      "almost no restrictions whatsoever.  You may copy it, give it away or\n",
      "your property has to be entailed away from your own wife and children,\n",
      "     [BINGLEY _turns away hurt and embarrassed_. DARCY _seeing the\n",
      "was just going away myself.\n",
      "before I am run away with by my feelings on this subject. [ELIZABETH _is\n",
      "would have called him away just now if he had not wished to avoid a\n",
      "Colonel Millar's regiment went away, five-and-twenty years ago. I\n",
      "     [DARCY _turns away with an unconscious look of chagrin_.]\n",
      "too foolish, too ignorant and wilful to be trusted away from home. I\n",
      "kept away from Jane by---- [_Stops suddenly._]\n",
      "     and is putting away the writing materials, when the maid ushers in_\n",
      "I am here again, Miss Bennet. I saw Mr. and Mrs. Collins drive away\n",
      "from Colonel Forster. He told us that Lydia had run away from Brighton\n",
      "Collins is away. Will you be so kind? [_She falls, half-fainting, upon a\n",
      "not the kind of girl to run away with a man. But no one would listen to\n",
      "gone away, and I know he will fight that abominable Wickham and be\n",
      "father and uncle insisted upon it. They took Lydia away at once to my\n",
      "life feel how much I have been to blame. The impression will pass away\n",
      "idea of being married when I went away, though I thought it would be\n",
      "talking away to me all the time I was dressing, just as if she was\n",
      "to give me away, you know. But then, if he hadn't come, Mr. Darcy might\n",
      "Miss Bennet, I am shocked and astonished. I shall not go away until you\n",
      "Heaven knows Darcy has reason enough to keep away from Wickham's\n",
      "     [_She tries to run away, but before she can escape_ BINGLEY\n",
      "my aunt coming away from here, and from something she said, I feared,--I\n",
      "[_He starts to go away._]\n",
      "a thought of--you. [ELIZABETH _turns away_.] Oh, pardon me. Perhaps, I\n",
      "research.  They may be modified and printed and given away--you may do\n",
      "almost no restrictions whatsoever.  You may copy it, give it away or\n"
     ]
    }
   ],
   "source": [
    "!cat away.txt"
   ]
  },
  {
   "cell_type": "code",
   "execution_count": null,
   "metadata": {},
   "outputs": [],
   "source": []
  }
 ],
 "metadata": {
  "kernelspec": {
   "display_name": "Python 3",
   "language": "python",
   "name": "python3"
  },
  "language_info": {
   "codemirror_mode": {
    "name": "ipython",
    "version": 3
   },
   "file_extension": ".py",
   "mimetype": "text/x-python",
   "name": "python",
   "nbconvert_exporter": "python",
   "pygments_lexer": "ipython3",
   "version": "3.7.3"
  }
 },
 "nbformat": 4,
 "nbformat_minor": 2
}
