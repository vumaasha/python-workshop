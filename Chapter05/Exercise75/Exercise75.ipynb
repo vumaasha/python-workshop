{
 "cells": [
  {
   "cell_type": "code",
   "execution_count": 27,
   "metadata": {},
   "outputs": [],
   "source": [
    "class Country():\n",
    "    def __init__(self, name='Unspecified', population=None, size_kmsq=None):\n",
    "        self.name = name\n",
    "        self.population = population\n",
    "        self.size_kmsq = size_kmsq\n",
    "    \n",
    "    @classmethod\n",
    "    def country_from_name(cls,name):\n",
    "        return cls(name=name)\n",
    "    \n",
    "    @classmethod\n",
    "    def country_from_population(cls,population):\n",
    "        return cls(population=population)\n",
    "    \n",
    "        \n",
    "    def size_miles_sq(self, conversion_rate=0.621371):\n",
    "        return self.size_kmsq * conversion_rate ** 2\n",
    "    \n",
    "    def __str__(self):\n",
    "        return \"{}:{}\".format(self.name,self.size_miles_sq())\n",
    "    "
   ]
  },
  {
   "cell_type": "code",
   "execution_count": 22,
   "metadata": {},
   "outputs": [
    {
     "data": {
      "text/plain": [
       "919694.772584862"
      ]
     },
     "execution_count": 22,
     "metadata": {},
     "output_type": "execute_result"
    }
   ],
   "source": [
    "algeria = Country(name='Algeria', size_kmsq=2.382e6)\n",
    "\n",
    "\n",
    "algeria.size_miles_sq()"
   ]
  },
  {
   "cell_type": "code",
   "execution_count": 23,
   "metadata": {},
   "outputs": [
    {
     "data": {
      "text/plain": [
       "857520.0"
      ]
     },
     "execution_count": 23,
     "metadata": {},
     "output_type": "execute_result"
    }
   ],
   "source": [
    "algeria.size_miles_sq(conversion_rate=0.6)"
   ]
  },
  {
   "cell_type": "code",
   "execution_count": 24,
   "metadata": {},
   "outputs": [
    {
     "name": "stdout",
     "output_type": "stream",
     "text": [
      "Algeria:919694.772584862\n"
     ]
    }
   ],
   "source": [
    "print(algeria)"
   ]
  },
  {
   "cell_type": "code",
   "execution_count": 25,
   "metadata": {},
   "outputs": [
    {
     "data": {
      "text/plain": [
       "<__main__.Country at 0x110cc1208>"
      ]
     },
     "execution_count": 25,
     "metadata": {},
     "output_type": "execute_result"
    }
   ],
   "source": [
    "algeria"
   ]
  },
  {
   "cell_type": "code",
   "execution_count": 28,
   "metadata": {},
   "outputs": [],
   "source": [
    "america = Country.country_from_name('USA')"
   ]
  },
  {
   "cell_type": "code",
   "execution_count": 29,
   "metadata": {},
   "outputs": [
    {
     "data": {
      "text/plain": [
       "<__main__.Country at 0x110cf8eb8>"
      ]
     },
     "execution_count": 29,
     "metadata": {},
     "output_type": "execute_result"
    }
   ],
   "source": [
    "america"
   ]
  },
  {
   "cell_type": "code",
   "execution_count": null,
   "metadata": {},
   "outputs": [],
   "source": []
  }
 ],
 "metadata": {
  "kernelspec": {
   "display_name": "Python 3",
   "language": "python",
   "name": "python3"
  },
  "language_info": {
   "codemirror_mode": {
    "name": "ipython",
    "version": 3
   },
   "file_extension": ".py",
   "mimetype": "text/x-python",
   "name": "python",
   "nbconvert_exporter": "python",
   "pygments_lexer": "ipython3",
   "version": "3.7.3"
  }
 },
 "nbformat": 4,
 "nbformat_minor": 2
}
