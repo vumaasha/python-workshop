{
 "cells": [
  {
   "cell_type": "code",
   "execution_count": 1,
   "metadata": {},
   "outputs": [],
   "source": [
    "import requests"
   ]
  },
  {
   "cell_type": "code",
   "execution_count": 2,
   "metadata": {},
   "outputs": [],
   "source": [
    "first_book = requests.get('http://www.gutenberg.org/files/4737/4737-0.txt').text"
   ]
  },
  {
   "cell_type": "code",
   "execution_count": 3,
   "metadata": {},
   "outputs": [],
   "source": [
    "second_book = requests.get('http://www.gutenberg.org/files/829/829-0.txt').text"
   ]
  },
  {
   "cell_type": "code",
   "execution_count": 8,
   "metadata": {},
   "outputs": [],
   "source": [
    "first_book_words = {word for word in first_book.split()}\n",
    "second_book_words = {word for word in second_book.split()}"
   ]
  },
  {
   "cell_type": "code",
   "execution_count": 9,
   "metadata": {},
   "outputs": [],
   "source": [
    "common_words = first_book_words.intersection(second_book_words)"
   ]
  },
  {
   "cell_type": "code",
   "execution_count": 11,
   "metadata": {},
   "outputs": [],
   "source": [
    "from collections import defaultdict\n",
    "first_book_words_counter = defaultdict(int)\n",
    "for word in first_book.split():\n",
    "    first_book_words_counter[word] += 1"
   ]
  },
  {
   "cell_type": "code",
   "execution_count": 22,
   "metadata": {},
   "outputs": [],
   "source": [
    "first_book_words_common_words_counter = {}\n",
    "for k,v in first_book_words_counter.items():\n",
    "    if k in common_words:\n",
    "        first_book_words_common_words_counter[k] = v"
   ]
  },
  {
   "cell_type": "code",
   "execution_count": 21,
   "metadata": {},
   "outputs": [
    {
     "data": {
      "text/plain": [
       "[('the', 2576),\n",
       " ('of', 1951),\n",
       " ('and', 1662),\n",
       " ('to', 1547),\n",
       " ('a', 1202),\n",
       " ('in', 885),\n",
       " ('that', 582),\n",
       " ('I', 494),\n",
       " ('is', 456),\n",
       " ('as', 448),\n",
       " ('it', 418),\n",
       " ('with', 414),\n",
       " ('be', 393),\n",
       " ('his', 383),\n",
       " ('by', 379),\n",
       " ('for', 361),\n",
       " ('or', 333),\n",
       " ('this', 309),\n",
       " ('which', 308),\n",
       " ('their', 304),\n",
       " ('have', 303),\n",
       " ('he', 275),\n",
       " ('all', 270),\n",
       " ('was', 264),\n",
       " ('from', 245),\n",
       " ('they', 217),\n",
       " ('upon', 215),\n",
       " ('not', 212),\n",
       " ('so', 211),\n",
       " ('at', 202),\n",
       " ('are', 181),\n",
       " ('an', 170),\n",
       " ('but', 170),\n",
       " ('very', 161),\n",
       " ('will', 160),\n",
       " ('you', 154),\n",
       " ('great', 152),\n",
       " ('my', 140),\n",
       " ('them', 131),\n",
       " ('had', 125),\n",
       " ('into', 123),\n",
       " ('been', 121),\n",
       " ('out', 120),\n",
       " ('were', 120),\n",
       " ('would', 118),\n",
       " ('The', 114),\n",
       " ('other', 114),\n",
       " ('our', 114),\n",
       " ('your', 110),\n",
       " ('who', 109)]"
      ]
     },
     "execution_count": 21,
     "metadata": {},
     "output_type": "execute_result"
    }
   ],
   "source": [
    "first_book_words_common_words_counter = {k:v for k,v in first_book_words_counter.items() if k in common_words}\n",
    "sorted(first_book_words_common_words_counter.items(),key=lambda x:x[1],reverse=True)[:50]"
   ]
  },
  {
   "cell_type": "code",
   "execution_count": null,
   "metadata": {},
   "outputs": [],
   "source": []
  }
 ],
 "metadata": {
  "kernelspec": {
   "display_name": "Python 3",
   "language": "python",
   "name": "python3"
  },
  "language_info": {
   "codemirror_mode": {
    "name": "ipython",
    "version": 3
   },
   "file_extension": ".py",
   "mimetype": "text/x-python",
   "name": "python",
   "nbconvert_exporter": "python",
   "pygments_lexer": "ipython3",
   "version": "3.7.3"
  }
 },
 "nbformat": 4,
 "nbformat_minor": 2
}
